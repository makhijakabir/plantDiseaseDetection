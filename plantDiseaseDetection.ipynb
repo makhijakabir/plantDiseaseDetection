{
  "cells": [
    {
      "cell_type": "markdown",
      "metadata": {
        "id": "view-in-github",
        "colab_type": "text"
      },
      "source": [
        "<a href=\"https://colab.research.google.com/github/makhijakabir/plantDiseaseDetection/blob/main/plantDiseaseDetection.ipynb\" target=\"_parent\"><img src=\"https://colab.research.google.com/assets/colab-badge.svg\" alt=\"Open In Colab\"/></a>"
      ]
    },
    {
      "cell_type": "markdown",
      "metadata": {
        "id": "KDCwM6M1MkXR"
      },
      "source": [
        "#Mini Project for Sem 5 CSBS\n",
        "\n",
        "##Topic: Plant Disease Detection\n",
        "\n",
        "###This project analyses more than 4,870 images from Pepper Bell, Potato, and Tomato plants' leaves for 3 different kinds of viruses and diseases and categorises them accordingly."
      ]
    },
    {
      "cell_type": "markdown",
      "metadata": {
        "id": "b1jxCeY4MsU3"
      },
      "source": [
        "##Imports and Constants"
      ]
    },
    {
      "cell_type": "code",
      "execution_count": 1,
      "metadata": {
        "colab": {
          "base_uri": "https://localhost:8080/"
        },
        "id": "Hgsn_hx2M2AY",
        "outputId": "97fab683-2723-4b56-8272-f49789a9a0b7"
      },
      "outputs": [
        {
          "output_type": "stream",
          "name": "stdout",
          "text": [
            "Drive already mounted at /content/drive; to attempt to forcibly remount, call drive.mount(\"/content/drive\", force_remount=True).\n"
          ]
        }
      ],
      "source": [
        "from google.colab import drive\n",
        "drive.mount('/content/drive')"
      ]
    },
    {
      "cell_type": "code",
      "execution_count": 2,
      "metadata": {
        "colab": {
          "base_uri": "https://localhost:8080/"
        },
        "id": "oz1ZXakKMfoe",
        "outputId": "b94bd974-e598-4cd7-9969-cdd7a01c8fd8"
      },
      "outputs": [
        {
          "output_type": "stream",
          "name": "stdout",
          "text": [
            "Requirement already satisfied: pip in /usr/local/lib/python3.7/dist-packages (21.1.3)\n",
            "Collecting pip\n",
            "  Downloading pip-21.3.1-py3-none-any.whl (1.7 MB)\n",
            "\u001b[K     |████████████████████████████████| 1.7 MB 5.5 MB/s \n",
            "\u001b[?25hInstalling collected packages: pip\n",
            "\u001b[33m  WARNING: The scripts pip, pip3 and pip3.7 are installed in '/root/.local/bin' which is not on PATH.\n",
            "  Consider adding this directory to PATH or, if you prefer to suppress this warning, use --no-warn-script-location.\u001b[0m\n",
            "Successfully installed pip-21.3.1\n",
            "Requirement already satisfied: tensorflow in /usr/local/lib/python3.7/dist-packages (2.7.0)\n",
            "Requirement already satisfied: grpcio<2.0,>=1.24.3 in /usr/local/lib/python3.7/dist-packages (from tensorflow) (1.42.0)\n",
            "Requirement already satisfied: keras<2.8,>=2.7.0rc0 in /usr/local/lib/python3.7/dist-packages (from tensorflow) (2.7.0)\n",
            "Requirement already satisfied: typing-extensions>=3.6.6 in /usr/local/lib/python3.7/dist-packages (from tensorflow) (3.10.0.2)\n",
            "Requirement already satisfied: wheel<1.0,>=0.32.0 in /usr/local/lib/python3.7/dist-packages (from tensorflow) (0.37.0)\n",
            "Requirement already satisfied: astunparse>=1.6.0 in /usr/local/lib/python3.7/dist-packages (from tensorflow) (1.6.3)\n",
            "Requirement already satisfied: tensorflow-estimator<2.8,~=2.7.0rc0 in /usr/local/lib/python3.7/dist-packages (from tensorflow) (2.7.0)\n",
            "Requirement already satisfied: absl-py>=0.4.0 in /usr/local/lib/python3.7/dist-packages (from tensorflow) (0.12.0)\n",
            "Requirement already satisfied: keras-preprocessing>=1.1.1 in /usr/local/lib/python3.7/dist-packages (from tensorflow) (1.1.2)\n",
            "Requirement already satisfied: termcolor>=1.1.0 in /usr/local/lib/python3.7/dist-packages (from tensorflow) (1.1.0)\n",
            "Requirement already satisfied: numpy>=1.14.5 in /usr/local/lib/python3.7/dist-packages (from tensorflow) (1.19.5)\n",
            "Requirement already satisfied: protobuf>=3.9.2 in /usr/local/lib/python3.7/dist-packages (from tensorflow) (3.17.3)\n",
            "Requirement already satisfied: opt-einsum>=2.3.2 in /usr/local/lib/python3.7/dist-packages (from tensorflow) (3.3.0)\n",
            "Requirement already satisfied: gast<0.5.0,>=0.2.1 in /usr/local/lib/python3.7/dist-packages (from tensorflow) (0.4.0)\n",
            "Requirement already satisfied: flatbuffers<3.0,>=1.12 in /usr/local/lib/python3.7/dist-packages (from tensorflow) (2.0)\n",
            "Requirement already satisfied: h5py>=2.9.0 in /usr/local/lib/python3.7/dist-packages (from tensorflow) (3.1.0)\n",
            "Requirement already satisfied: google-pasta>=0.1.1 in /usr/local/lib/python3.7/dist-packages (from tensorflow) (0.2.0)\n",
            "Requirement already satisfied: six>=1.12.0 in /usr/local/lib/python3.7/dist-packages (from tensorflow) (1.15.0)\n",
            "Requirement already satisfied: tensorflow-io-gcs-filesystem>=0.21.0 in /usr/local/lib/python3.7/dist-packages (from tensorflow) (0.22.0)\n",
            "Requirement already satisfied: libclang>=9.0.1 in /usr/local/lib/python3.7/dist-packages (from tensorflow) (12.0.0)\n",
            "Requirement already satisfied: tensorboard~=2.6 in /usr/local/lib/python3.7/dist-packages (from tensorflow) (2.7.0)\n",
            "Requirement already satisfied: wrapt>=1.11.0 in /usr/local/lib/python3.7/dist-packages (from tensorflow) (1.13.3)\n",
            "Requirement already satisfied: cached-property in /usr/local/lib/python3.7/dist-packages (from h5py>=2.9.0->tensorflow) (1.5.2)\n",
            "Requirement already satisfied: tensorboard-data-server<0.7.0,>=0.6.0 in /usr/local/lib/python3.7/dist-packages (from tensorboard~=2.6->tensorflow) (0.6.1)\n",
            "Requirement already satisfied: markdown>=2.6.8 in /usr/local/lib/python3.7/dist-packages (from tensorboard~=2.6->tensorflow) (3.3.6)\n",
            "Requirement already satisfied: tensorboard-plugin-wit>=1.6.0 in /usr/local/lib/python3.7/dist-packages (from tensorboard~=2.6->tensorflow) (1.8.0)\n",
            "Requirement already satisfied: google-auth-oauthlib<0.5,>=0.4.1 in /usr/local/lib/python3.7/dist-packages (from tensorboard~=2.6->tensorflow) (0.4.6)\n",
            "Requirement already satisfied: google-auth<3,>=1.6.3 in /usr/local/lib/python3.7/dist-packages (from tensorboard~=2.6->tensorflow) (1.35.0)\n",
            "Requirement already satisfied: setuptools>=41.0.0 in /usr/local/lib/python3.7/dist-packages (from tensorboard~=2.6->tensorflow) (57.4.0)\n",
            "Requirement already satisfied: werkzeug>=0.11.15 in /usr/local/lib/python3.7/dist-packages (from tensorboard~=2.6->tensorflow) (1.0.1)\n",
            "Requirement already satisfied: requests<3,>=2.21.0 in /usr/local/lib/python3.7/dist-packages (from tensorboard~=2.6->tensorflow) (2.23.0)\n",
            "Requirement already satisfied: pyasn1-modules>=0.2.1 in /usr/local/lib/python3.7/dist-packages (from google-auth<3,>=1.6.3->tensorboard~=2.6->tensorflow) (0.2.8)\n",
            "Requirement already satisfied: cachetools<5.0,>=2.0.0 in /usr/local/lib/python3.7/dist-packages (from google-auth<3,>=1.6.3->tensorboard~=2.6->tensorflow) (4.2.4)\n",
            "Requirement already satisfied: rsa<5,>=3.1.4 in /usr/local/lib/python3.7/dist-packages (from google-auth<3,>=1.6.3->tensorboard~=2.6->tensorflow) (4.8)\n",
            "Requirement already satisfied: requests-oauthlib>=0.7.0 in /usr/local/lib/python3.7/dist-packages (from google-auth-oauthlib<0.5,>=0.4.1->tensorboard~=2.6->tensorflow) (1.3.0)\n",
            "Requirement already satisfied: importlib-metadata>=4.4 in /usr/local/lib/python3.7/dist-packages (from markdown>=2.6.8->tensorboard~=2.6->tensorflow) (4.8.2)\n",
            "Requirement already satisfied: chardet<4,>=3.0.2 in /usr/local/lib/python3.7/dist-packages (from requests<3,>=2.21.0->tensorboard~=2.6->tensorflow) (3.0.4)\n",
            "Requirement already satisfied: urllib3!=1.25.0,!=1.25.1,<1.26,>=1.21.1 in /usr/local/lib/python3.7/dist-packages (from requests<3,>=2.21.0->tensorboard~=2.6->tensorflow) (1.24.3)\n",
            "Requirement already satisfied: certifi>=2017.4.17 in /usr/local/lib/python3.7/dist-packages (from requests<3,>=2.21.0->tensorboard~=2.6->tensorflow) (2021.10.8)\n",
            "Requirement already satisfied: idna<3,>=2.5 in /usr/local/lib/python3.7/dist-packages (from requests<3,>=2.21.0->tensorboard~=2.6->tensorflow) (2.10)\n",
            "Requirement already satisfied: zipp>=0.5 in /usr/local/lib/python3.7/dist-packages (from importlib-metadata>=4.4->markdown>=2.6.8->tensorboard~=2.6->tensorflow) (3.6.0)\n",
            "Requirement already satisfied: pyasn1<0.5.0,>=0.4.6 in /usr/local/lib/python3.7/dist-packages (from pyasn1-modules>=0.2.1->google-auth<3,>=1.6.3->tensorboard~=2.6->tensorflow) (0.4.8)\n",
            "Requirement already satisfied: oauthlib>=3.0.0 in /usr/local/lib/python3.7/dist-packages (from requests-oauthlib>=0.7.0->google-auth-oauthlib<0.5,>=0.4.1->tensorboard~=2.6->tensorflow) (3.1.1)\n",
            "\u001b[33mWARNING: Running pip as the 'root' user can result in broken permissions and conflicting behaviour with the system package manager. It is recommended to use a virtual environment instead: https://pip.pypa.io/warnings/venv\u001b[0m\n",
            "Requirement already satisfied: tqdm in /usr/local/lib/python3.7/dist-packages (4.62.3)\n",
            "\u001b[33mWARNING: Running pip as the 'root' user can result in broken permissions and conflicting behaviour with the system package manager. It is recommended to use a virtual environment instead: https://pip.pypa.io/warnings/venv\u001b[0m\n"
          ]
        }
      ],
      "source": [
        "!pip install --upgrade pip --user\n",
        "!pip install tensorflow --user\n",
        "!pip install tqdm"
      ]
    },
    {
      "cell_type": "code",
      "execution_count": 3,
      "metadata": {
        "id": "jdNcm64qNMAf"
      },
      "outputs": [],
      "source": [
        "%matplotlib inline\n",
        "\n",
        "import os\n",
        "import numpy as np\n",
        "import tensorflow as tf\n",
        "import keras\n",
        "import itertools\n",
        "import sys\n",
        "from tqdm import tqdm\n",
        "\n",
        "import pickle\n",
        "import cv2\n",
        "\n",
        "from keras.models import Sequential\n",
        "from keras.layers import BatchNormalization, SeparableConv2D, MaxPooling2D, Activation, Flatten, Dropout, Dense\n",
        "from keras.callbacks import TensorBoard\n",
        "from keras import backend as K\n",
        "from keras.preprocessing.image import ImageDataGenerator\n",
        "from tensorflow.keras.optimizers import Adam\n",
        "from tensorflow.keras import layers\n",
        "from keras.preprocessing import image\n",
        "from keras.preprocessing.image import img_to_array\n",
        "from keras.preprocessing.image import array_to_img\n",
        "\n",
        "from time import strftime\n",
        "\n",
        "from sklearn.metrics import confusion_matrix\n",
        "from sklearn.preprocessing import LabelBinarizer\n",
        "from sklearn.preprocessing import MultiLabelBinarizer\n",
        "from sklearn.model_selection import train_test_split\n",
        "from sklearn.metrics import classification_report\n",
        "\n",
        "from IPython.display import display\n",
        "\n",
        "import matplotlib.pyplot as plt"
      ]
    },
    {
      "cell_type": "code",
      "execution_count": 30,
      "metadata": {
        "id": "KPYEB-ZlQFbg"
      },
      "outputs": [],
      "source": [
        "nrEpochs = 5\n",
        "initLearnRate = 1e-3\n",
        "batchSize = 32\n",
        "nrClasses = 6\n",
        "\n",
        "imgSizeDefault = tuple((256, 256))\n",
        "imgSize = 500\n",
        "directoryRoot = '/content/drive/MyDrive/Colab Notebooks/PlantVillageShort'\n",
        "\n",
        "width = 256\n",
        "height = 256\n",
        "depth = 3\n",
        "\n",
        "categories = ['Pepper__bell___Bacterial_spot', 'Pepper__bell___healthy', 'Potato___healthy', 'Potato___Late_blight', 'Tomato_Bacterial_spot', 'Tomato_healthy']\n",
        "#type(categories)"
      ]
    },
    {
      "cell_type": "code",
      "execution_count": 5,
      "metadata": {
        "colab": {
          "base_uri": "https://localhost:8080/"
        },
        "id": "nRNTyfVtXGZt",
        "outputId": "7b4d3e92-56e7-45d3-fff8-920afd5cf288"
      },
      "outputs": [
        {
          "output_type": "stream",
          "name": "stdout",
          "text": [
            "/content/drive/MyDrive/Colab Notebooks/PlantVillageShort\n",
            "/content/drive/MyDrive/Colab Notebooks/PlantVillageShort\n"
          ]
        }
      ],
      "source": [
        "os.chdir('/content/drive/MyDrive/Colab Notebooks/PlantVillageShort')\n",
        "!pwd\n",
        "rootDIR = os.path.abspath('')\n",
        "print(rootDIR)\n",
        "sys.path.append(rootDIR)"
      ]
    },
    {
      "cell_type": "code",
      "execution_count": 6,
      "metadata": {
        "id": "wVzplMPCkHLi"
      },
      "outputs": [],
      "source": [
        "xFile = os.path.join(directoryRoot, 'X.pickle')\n",
        "yFile = os.path.join(directoryRoot, 'y.pickle')"
      ]
    },
    {
      "cell_type": "code",
      "execution_count": 7,
      "metadata": {
        "id": "DaOuk7luRyqy"
      },
      "outputs": [],
      "source": [
        "pickle_in = open(xFile,\"rb\")\n",
        "X = pickle.load(pickle_in)\n",
        "\n",
        "pickle_in = open(yFile,\"rb\")\n",
        "y = pickle.load(pickle_in)"
      ]
    },
    {
      "cell_type": "code",
      "execution_count": 8,
      "metadata": {
        "colab": {
          "base_uri": "https://localhost:8080/"
        },
        "id": "HnZsoBiPR9Ih",
        "outputId": "b8957efc-d874-42b6-f950-f64c5c6ed656"
      },
      "outputs": [
        {
          "output_type": "stream",
          "name": "stdout",
          "text": [
            "[[[[136]\n",
            "   [133]\n",
            "   [129]\n",
            "   ...\n",
            "   [120]\n",
            "   [133]\n",
            "   [140]]\n",
            "\n",
            "  [[143]\n",
            "   [138]\n",
            "   [129]\n",
            "   ...\n",
            "   [121]\n",
            "   [130]\n",
            "   [135]]\n",
            "\n",
            "  [[155]\n",
            "   [146]\n",
            "   [129]\n",
            "   ...\n",
            "   [123]\n",
            "   [124]\n",
            "   [125]]\n",
            "\n",
            "  ...\n",
            "\n",
            "  [[ 85]\n",
            "   [ 84]\n",
            "   [ 84]\n",
            "   ...\n",
            "   [ 69]\n",
            "   [ 68]\n",
            "   [ 67]]\n",
            "\n",
            "  [[ 80]\n",
            "   [ 80]\n",
            "   [ 79]\n",
            "   ...\n",
            "   [ 69]\n",
            "   [ 67]\n",
            "   [ 66]]\n",
            "\n",
            "  [[ 78]\n",
            "   [ 78]\n",
            "   [ 77]\n",
            "   ...\n",
            "   [ 69]\n",
            "   [ 67]\n",
            "   [ 66]]]\n",
            "\n",
            "\n",
            " [[[116]\n",
            "   [116]\n",
            "   [117]\n",
            "   ...\n",
            "   [ 68]\n",
            "   [ 84]\n",
            "   [ 92]]\n",
            "\n",
            "  [[111]\n",
            "   [111]\n",
            "   [112]\n",
            "   ...\n",
            "   [ 70]\n",
            "   [ 80]\n",
            "   [ 85]]\n",
            "\n",
            "  [[102]\n",
            "   [102]\n",
            "   [102]\n",
            "   ...\n",
            "   [ 74]\n",
            "   [ 72]\n",
            "   [ 72]]\n",
            "\n",
            "  ...\n",
            "\n",
            "  [[148]\n",
            "   [147]\n",
            "   [145]\n",
            "   ...\n",
            "   [142]\n",
            "   [140]\n",
            "   [139]]\n",
            "\n",
            "  [[149]\n",
            "   [148]\n",
            "   [146]\n",
            "   ...\n",
            "   [141]\n",
            "   [138]\n",
            "   [137]]\n",
            "\n",
            "  [[150]\n",
            "   [149]\n",
            "   [147]\n",
            "   ...\n",
            "   [141]\n",
            "   [138]\n",
            "   [136]]]\n",
            "\n",
            "\n",
            " [[[128]\n",
            "   [128]\n",
            "   [129]\n",
            "   ...\n",
            "   [141]\n",
            "   [140]\n",
            "   [140]]\n",
            "\n",
            "  [[130]\n",
            "   [130]\n",
            "   [131]\n",
            "   ...\n",
            "   [139]\n",
            "   [139]\n",
            "   [139]]\n",
            "\n",
            "  [[134]\n",
            "   [134]\n",
            "   [135]\n",
            "   ...\n",
            "   [137]\n",
            "   [137]\n",
            "   [138]]\n",
            "\n",
            "  ...\n",
            "\n",
            "  [[ 67]\n",
            "   [ 67]\n",
            "   [ 67]\n",
            "   ...\n",
            "   [ 96]\n",
            "   [ 95]\n",
            "   [ 94]]\n",
            "\n",
            "  [[ 59]\n",
            "   [ 61]\n",
            "   [ 67]\n",
            "   ...\n",
            "   [ 91]\n",
            "   [ 92]\n",
            "   [ 93]]\n",
            "\n",
            "  [[ 54]\n",
            "   [ 58]\n",
            "   [ 66]\n",
            "   ...\n",
            "   [ 89]\n",
            "   [ 91]\n",
            "   [ 92]]]\n",
            "\n",
            "\n",
            " ...\n",
            "\n",
            "\n",
            " [[[140]\n",
            "   [144]\n",
            "   [152]\n",
            "   ...\n",
            "   [138]\n",
            "   [132]\n",
            "   [129]]\n",
            "\n",
            "  [[141]\n",
            "   [145]\n",
            "   [151]\n",
            "   ...\n",
            "   [138]\n",
            "   [132]\n",
            "   [129]]\n",
            "\n",
            "  [[145]\n",
            "   [146]\n",
            "   [150]\n",
            "   ...\n",
            "   [136]\n",
            "   [132]\n",
            "   [130]]\n",
            "\n",
            "  ...\n",
            "\n",
            "  [[166]\n",
            "   [165]\n",
            "   [163]\n",
            "   ...\n",
            "   [156]\n",
            "   [155]\n",
            "   [155]]\n",
            "\n",
            "  [[166]\n",
            "   [165]\n",
            "   [163]\n",
            "   ...\n",
            "   [150]\n",
            "   [148]\n",
            "   [148]]\n",
            "\n",
            "  [[167]\n",
            "   [166]\n",
            "   [164]\n",
            "   ...\n",
            "   [146]\n",
            "   [145]\n",
            "   [144]]]\n",
            "\n",
            "\n",
            " [[[150]\n",
            "   [149]\n",
            "   [148]\n",
            "   ...\n",
            "   [129]\n",
            "   [126]\n",
            "   [125]]\n",
            "\n",
            "  [[148]\n",
            "   [148]\n",
            "   [147]\n",
            "   ...\n",
            "   [130]\n",
            "   [127]\n",
            "   [126]]\n",
            "\n",
            "  [[145]\n",
            "   [145]\n",
            "   [145]\n",
            "   ...\n",
            "   [132]\n",
            "   [130]\n",
            "   [129]]\n",
            "\n",
            "  ...\n",
            "\n",
            "  [[173]\n",
            "   [172]\n",
            "   [171]\n",
            "   ...\n",
            "   [154]\n",
            "   [158]\n",
            "   [160]]\n",
            "\n",
            "  [[173]\n",
            "   [172]\n",
            "   [171]\n",
            "   ...\n",
            "   [152]\n",
            "   [158]\n",
            "   [161]]\n",
            "\n",
            "  [[173]\n",
            "   [172]\n",
            "   [171]\n",
            "   ...\n",
            "   [152]\n",
            "   [158]\n",
            "   [161]]]\n",
            "\n",
            "\n",
            " [[[117]\n",
            "   [117]\n",
            "   [118]\n",
            "   ...\n",
            "   [130]\n",
            "   [129]\n",
            "   [128]]\n",
            "\n",
            "  [[124]\n",
            "   [124]\n",
            "   [123]\n",
            "   ...\n",
            "   [128]\n",
            "   [126]\n",
            "   [125]]\n",
            "\n",
            "  [[138]\n",
            "   [136]\n",
            "   [133]\n",
            "   ...\n",
            "   [124]\n",
            "   [120]\n",
            "   [118]]\n",
            "\n",
            "  ...\n",
            "\n",
            "  [[ 88]\n",
            "   [ 86]\n",
            "   [ 83]\n",
            "   ...\n",
            "   [ 86]\n",
            "   [ 79]\n",
            "   [ 75]]\n",
            "\n",
            "  [[ 85]\n",
            "   [ 84]\n",
            "   [ 81]\n",
            "   ...\n",
            "   [ 85]\n",
            "   [ 77]\n",
            "   [ 74]]\n",
            "\n",
            "  [[ 84]\n",
            "   [ 82]\n",
            "   [ 80]\n",
            "   ...\n",
            "   [ 84]\n",
            "   [ 77]\n",
            "   [ 73]]]] \n",
            "\n",
            " [3 2 3 ... 1 1 3]\n"
          ]
        }
      ],
      "source": [
        "y = np.array(y)\n",
        "print(X,\"\\n\\n\", y)"
      ]
    },
    {
      "cell_type": "code",
      "execution_count": 9,
      "metadata": {
        "colab": {
          "base_uri": "https://localhost:8080/"
        },
        "id": "HJicPOeySPBp",
        "outputId": "be24be11-8f0f-4407-a5c1-d66292df4e90"
      },
      "outputs": [
        {
          "output_type": "stream",
          "name": "stdout",
          "text": [
            "Train features shape:  (2727, 500, 500, 1)\n",
            "Train target shape:  (2727,)\n",
            "Train features shape:  (1461, 500, 500, 1)\n",
            "Train target shape:  (1461,)\n",
            "Validation features shape:  (682, 500, 500, 1)\n",
            "Validation target shape:  (682,)\n"
          ]
        }
      ],
      "source": [
        "XTrain, XTest, yTrain, yTest = train_test_split(X, y, test_size=0.3)\n",
        "\n",
        "XTrain, XVal, yTrain, yVal = train_test_split(XTrain, yTrain, test_size=0.2, random_state=44)\n",
        "\n",
        "\n",
        "print(\"Train features shape: \", XTrain.shape)\n",
        "print(\"Train target shape: \", yTrain.shape)\n",
        "print(\"Train features shape: \", XTest.shape)\n",
        "print(\"Train target shape: \", yTest.shape)\n",
        "print(\"Validation features shape: \", XVal.shape)\n",
        "print(\"Validation target shape: \", yVal.shape)"
      ]
    },
    {
      "cell_type": "code",
      "execution_count": 10,
      "metadata": {
        "id": "CXkk1NvzSju-"
      },
      "outputs": [],
      "source": [
        "yTrain = yTrain.reshape(-1,)\n",
        "yTest = yTest.reshape(-1,)"
      ]
    },
    {
      "cell_type": "code",
      "execution_count": 11,
      "metadata": {
        "id": "lBWjZEyBSoGz"
      },
      "outputs": [],
      "source": [
        "cnn = Sequential([\n",
        "    layers.Conv2D(filters=32, kernel_size=(3, 3), activation='relu', input_shape=(500, 500, 1)),\n",
        "    layers.MaxPooling2D((2, 2)),\n",
        "    #layers.Dropout(0.5),\n",
        "    \n",
        "    layers.Conv2D(filters=128, kernel_size=(3, 3), activation='relu'),\n",
        "    layers.MaxPooling2D((2, 2)),\n",
        "    #layers.Dropout(0.25),\n",
        "\n",
        "    layers.Conv2D(filters=64, kernel_size=(3, 3), activation='relu'),\n",
        "    layers.MaxPooling2D((2, 2)),\n",
        "    #layers.Dropout(0.25),\n",
        "\n",
        "    layers.Conv2D(filters=32, kernel_size=(3, 3), activation='relu'),\n",
        "    layers.MaxPooling2D((2, 2)),\n",
        "    #layers.Dropout(0.25),\n",
        "    \n",
        "    layers.Flatten(),\n",
        "    layers.Dense(32, activation='relu'),\n",
        "    layers.Dense(8, activation='softmax')\n",
        "])"
      ]
    },
    {
      "cell_type": "code",
      "execution_count": 12,
      "metadata": {
        "colab": {
          "base_uri": "https://localhost:8080/"
        },
        "id": "NgcLMzX6W5r5",
        "outputId": "a7d48a56-aafc-426b-fce8-1672b9e75b25"
      },
      "outputs": [
        {
          "output_type": "execute_result",
          "data": {
            "text/plain": [
              "keras.engine.sequential.Sequential"
            ]
          },
          "metadata": {},
          "execution_count": 12
        }
      ],
      "source": [
        "type(cnn)"
      ]
    },
    {
      "cell_type": "code",
      "execution_count": 13,
      "metadata": {
        "id": "CdICDMyfTA5f"
      },
      "outputs": [],
      "source": [
        "cnn.compile(optimizer='RMSprop', loss='sparse_categorical_crossentropy', metrics=['accuracy'])"
      ]
    },
    {
      "cell_type": "code",
      "execution_count": 14,
      "metadata": {
        "colab": {
          "base_uri": "https://localhost:8080/"
        },
        "id": "Lc5P_X1uTVfS",
        "outputId": "ae1ecac0-86de-4c87-82d1-0bd7918726f5"
      },
      "outputs": [
        {
          "output_type": "stream",
          "name": "stdout",
          "text": [
            "Model: \"sequential\"\n",
            "_________________________________________________________________\n",
            " Layer (type)                Output Shape              Param #   \n",
            "=================================================================\n",
            " conv2d (Conv2D)             (None, 498, 498, 32)      320       \n",
            "                                                                 \n",
            " max_pooling2d (MaxPooling2D  (None, 249, 249, 32)     0         \n",
            " )                                                               \n",
            "                                                                 \n",
            " conv2d_1 (Conv2D)           (None, 247, 247, 128)     36992     \n",
            "                                                                 \n",
            " max_pooling2d_1 (MaxPooling  (None, 123, 123, 128)    0         \n",
            " 2D)                                                             \n",
            "                                                                 \n",
            " conv2d_2 (Conv2D)           (None, 121, 121, 64)      73792     \n",
            "                                                                 \n",
            " max_pooling2d_2 (MaxPooling  (None, 60, 60, 64)       0         \n",
            " 2D)                                                             \n",
            "                                                                 \n",
            " conv2d_3 (Conv2D)           (None, 58, 58, 32)        18464     \n",
            "                                                                 \n",
            " max_pooling2d_3 (MaxPooling  (None, 29, 29, 32)       0         \n",
            " 2D)                                                             \n",
            "                                                                 \n",
            " flatten (Flatten)           (None, 26912)             0         \n",
            "                                                                 \n",
            " dense (Dense)               (None, 32)                861216    \n",
            "                                                                 \n",
            " dense_1 (Dense)             (None, 8)                 264       \n",
            "                                                                 \n",
            "=================================================================\n",
            "Total params: 991,048\n",
            "Trainable params: 991,048\n",
            "Non-trainable params: 0\n",
            "_________________________________________________________________\n"
          ]
        }
      ],
      "source": [
        "cnn.summary()"
      ]
    },
    {
      "cell_type": "code",
      "execution_count": 15,
      "metadata": {
        "colab": {
          "base_uri": "https://localhost:8080/"
        },
        "id": "Usd1CnJQTXwt",
        "outputId": "1d56a00d-5c60-427b-86e8-4401b0198637"
      },
      "outputs": [
        {
          "output_type": "stream",
          "name": "stdout",
          "text": [
            "Epoch 1/5\n",
            "86/86 [==============================] - 70s 632ms/step - loss: 5.0475 - accuracy: 0.4712 - val_loss: 0.8520 - val_accuracy: 0.6598\n",
            "Epoch 2/5\n",
            "86/86 [==============================] - 57s 664ms/step - loss: 0.9822 - accuracy: 0.6439 - val_loss: 0.9622 - val_accuracy: 0.7595\n",
            "Epoch 3/5\n",
            "86/86 [==============================] - 57s 662ms/step - loss: 0.7455 - accuracy: 0.7737 - val_loss: 0.5382 - val_accuracy: 0.8710\n",
            "Epoch 4/5\n",
            "86/86 [==============================] - 57s 662ms/step - loss: 0.6364 - accuracy: 0.8177 - val_loss: 2.0075 - val_accuracy: 0.6217\n",
            "Epoch 5/5\n",
            "86/86 [==============================] - 57s 664ms/step - loss: 0.5951 - accuracy: 0.8695 - val_loss: 0.4161 - val_accuracy: 0.8842\n",
            "CPU times: user 3min 29s, sys: 4.57 s, total: 3min 34s\n",
            "Wall time: 4min 58s\n"
          ]
        }
      ],
      "source": [
        "%%time\n",
        "cnnModel = cnn.fit(XTrain, yTrain, batch_size=batchSize, epochs=nrEpochs, validation_data=(XVal, yVal))"
      ]
    },
    {
      "cell_type": "code",
      "execution_count": 16,
      "metadata": {
        "id": "-Ui6YQb-TinW",
        "colab": {
          "base_uri": "https://localhost:8080/"
        },
        "outputId": "74e943be-dcbb-488f-ce3f-7f3e48994489"
      },
      "outputs": [
        {
          "output_type": "stream",
          "name": "stdout",
          "text": [
            "46/46 [==============================] - 11s 237ms/step - loss: 0.4576 - accuracy: 0.8597\n"
          ]
        },
        {
          "output_type": "execute_result",
          "data": {
            "text/plain": [
              "[0.45762738585472107, 0.8596851229667664]"
            ]
          },
          "metadata": {},
          "execution_count": 16
        }
      ],
      "source": [
        "cnn.evaluate(XTest, yTest)"
      ]
    },
    {
      "cell_type": "code",
      "source": [
        "yPred = cnn.predict(XTest)\n",
        "yPred[:5]"
      ],
      "metadata": {
        "colab": {
          "base_uri": "https://localhost:8080/"
        },
        "id": "qxkEFbtIdi57",
        "outputId": "8cf68454-799c-4269-b981-fa60106827d1"
      },
      "execution_count": 17,
      "outputs": [
        {
          "output_type": "execute_result",
          "data": {
            "text/plain": [
              "array([[8.91330419e-04, 1.66615546e-01, 8.23354781e-01, 9.13732592e-03,\n",
              "        5.60073907e-08, 2.21394691e-12, 9.53089113e-07, 6.40720310e-10],\n",
              "       [2.34951152e-08, 9.99761283e-01, 2.37809363e-04, 9.58194960e-07,\n",
              "        4.24332054e-12, 2.11732921e-20, 5.34091543e-16, 8.72884616e-19],\n",
              "       [3.67556140e-02, 1.12469539e-01, 8.08206797e-01, 4.22106832e-02,\n",
              "        3.19330029e-05, 2.03894032e-07, 3.18503706e-04, 6.73665863e-06],\n",
              "       [3.67275888e-25, 4.71218482e-06, 1.03591455e-08, 9.99995232e-01,\n",
              "        0.00000000e+00, 0.00000000e+00, 0.00000000e+00, 1.48106594e-34],\n",
              "       [3.65566625e-03, 2.99660452e-02, 9.64489162e-01, 1.86335971e-03,\n",
              "        7.43538010e-07, 1.09164969e-10, 2.49736204e-05, 2.63745150e-08]],\n",
              "      dtype=float32)"
            ]
          },
          "metadata": {},
          "execution_count": 17
        }
      ]
    },
    {
      "cell_type": "code",
      "source": [
        "yClasses = [np.argmax(element) for element in yPred]\n",
        "print(\"Predicted Classes: \", yClasses[:10])"
      ],
      "metadata": {
        "colab": {
          "base_uri": "https://localhost:8080/"
        },
        "id": "5v0V_gD6dyIl",
        "outputId": "7a61b0ec-55af-4452-97b6-49346316d5b3"
      },
      "execution_count": 18,
      "outputs": [
        {
          "output_type": "stream",
          "name": "stdout",
          "text": [
            "Predicted Classes:  [2, 1, 2, 3, 2, 2, 3, 2, 2, 3]\n"
          ]
        }
      ]
    },
    {
      "cell_type": "code",
      "source": [
        "print(\"Actual Classes: \", yTest[:10])"
      ],
      "metadata": {
        "colab": {
          "base_uri": "https://localhost:8080/"
        },
        "id": "La7v54chd6Fd",
        "outputId": "d23ddb6c-97ff-4b58-b59e-930c65e9a49d"
      },
      "execution_count": 19,
      "outputs": [
        {
          "output_type": "stream",
          "name": "stdout",
          "text": [
            "Actual Classes:  [1 1 2 3 2 1 3 2 1 1]\n"
          ]
        }
      ]
    },
    {
      "cell_type": "code",
      "source": [
        "testLoss, testAccuracy = cnn.evaluate(XTest, yTest)\n",
        "print(f'The Test Loss is {testLoss:0.3} and the Test Accuracy is {testAccuracy:0.1%}')"
      ],
      "metadata": {
        "colab": {
          "base_uri": "https://localhost:8080/"
        },
        "id": "hAmmjhDOgJ4U",
        "outputId": "ef5e2fd1-1eb4-4d00-d98b-eb71ad50d378"
      },
      "execution_count": 20,
      "outputs": [
        {
          "output_type": "stream",
          "name": "stdout",
          "text": [
            "46/46 [==============================] - 8s 179ms/step - loss: 0.4576 - accuracy: 0.8597\n",
            "The Test Loss is 0.458 and the Test Accuracy is 86.0%\n"
          ]
        }
      ]
    },
    {
      "cell_type": "code",
      "source": [
        "target_names = [\"Class {}\".format(i) for i in range(8)]\n",
        "print(classification_report(yTest, yClasses, labels=[1, 2, 3, 4, 5, 6], target_names=categories))\n",
        "\n",
        "correct = np.nonzero(yClasses == yTest)[0]\n",
        "incorrect = np.nonzero(yClasses != yTest)[0]"
      ],
      "metadata": {
        "colab": {
          "base_uri": "https://localhost:8080/"
        },
        "id": "yrja6gBseA6n",
        "outputId": "749f1d63-5a3a-466c-f88e-40838590fb5c"
      },
      "execution_count": 21,
      "outputs": [
        {
          "output_type": "stream",
          "name": "stdout",
          "text": [
            "                               precision    recall  f1-score   support\n",
            "\n",
            "Pepper__bell___Bacterial_spot       0.81      0.54      0.64       302\n",
            "       Pepper__bell___healthy       0.82      0.97      0.89       632\n",
            "             Potato___healthy       0.96      0.96      0.96       486\n",
            "         Potato___Late_blight       0.00      0.00      0.00         0\n",
            "        Tomato_Bacterial_spot       0.00      0.00      0.00         0\n",
            "               Tomato_healthy       0.00      0.00      0.00         0\n",
            "\n",
            "                    micro avg       0.87      0.87      0.87      1420\n",
            "                    macro avg       0.43      0.41      0.42      1420\n",
            "                 weighted avg       0.86      0.87      0.86      1420\n",
            "\n"
          ]
        },
        {
          "output_type": "stream",
          "name": "stderr",
          "text": [
            "/usr/local/lib/python3.7/dist-packages/sklearn/metrics/_classification.py:1308: UndefinedMetricWarning: Precision and F-score are ill-defined and being set to 0.0 in labels with no predicted samples. Use `zero_division` parameter to control this behavior.\n",
            "  _warn_prf(average, modifier, msg_start, len(result))\n",
            "/usr/local/lib/python3.7/dist-packages/sklearn/metrics/_classification.py:1308: UndefinedMetricWarning: Recall and F-score are ill-defined and being set to 0.0 in labels with no true samples. Use `zero_division` parameter to control this behavior.\n",
            "  _warn_prf(average, modifier, msg_start, len(result))\n",
            "/usr/local/lib/python3.7/dist-packages/sklearn/metrics/_classification.py:1308: UndefinedMetricWarning: Precision and F-score are ill-defined and being set to 0.0 in labels with no predicted samples. Use `zero_division` parameter to control this behavior.\n",
            "  _warn_prf(average, modifier, msg_start, len(result))\n",
            "/usr/local/lib/python3.7/dist-packages/sklearn/metrics/_classification.py:1308: UndefinedMetricWarning: Recall and F-score are ill-defined and being set to 0.0 in labels with no true samples. Use `zero_division` parameter to control this behavior.\n",
            "  _warn_prf(average, modifier, msg_start, len(result))\n",
            "/usr/local/lib/python3.7/dist-packages/sklearn/metrics/_classification.py:1308: UndefinedMetricWarning: Precision and F-score are ill-defined and being set to 0.0 in labels with no predicted samples. Use `zero_division` parameter to control this behavior.\n",
            "  _warn_prf(average, modifier, msg_start, len(result))\n",
            "/usr/local/lib/python3.7/dist-packages/sklearn/metrics/_classification.py:1308: UndefinedMetricWarning: Recall and F-score are ill-defined and being set to 0.0 in labels with no true samples. Use `zero_division` parameter to control this behavior.\n",
            "  _warn_prf(average, modifier, msg_start, len(result))\n"
          ]
        }
      ]
    },
    {
      "cell_type": "code",
      "source": [
        "predictions = cnn.predict(XTest)\n",
        "predictions = np.argmax(predictions, axis=-1)\n",
        "\n",
        "confMatrix = confusion_matrix(y_true=yTest, y_pred=predictions)"
      ],
      "metadata": {
        "id": "X_QQwHHgZghc"
      },
      "execution_count": 26,
      "outputs": []
    },
    {
      "cell_type": "code",
      "source": [
        "confMatrix.shape"
      ],
      "metadata": {
        "colab": {
          "base_uri": "https://localhost:8080/"
        },
        "id": "WvVVlWbTZ-ah",
        "outputId": "c54ccf3f-4627-44e6-d228-1ff2c3baa322"
      },
      "execution_count": 27,
      "outputs": [
        {
          "output_type": "execute_result",
          "data": {
            "text/plain": [
              "(4, 4)"
            ]
          },
          "metadata": {},
          "execution_count": 27
        }
      ]
    },
    {
      "cell_type": "code",
      "source": [
        "nrRows = confMatrix.shape[0]\n",
        "nrCols = confMatrix.shape[1]"
      ],
      "metadata": {
        "id": "rrvh9SJcaF0M"
      },
      "execution_count": 28,
      "outputs": []
    },
    {
      "cell_type": "code",
      "source": [
        "plt.figure(figsize=(30, 15))\n",
        "plt.imshow(confMatrix, cmap=plt.cm.Greens)\n",
        "\n",
        "plt.title('Confusion Matrix', fontsize=16)\n",
        "plt.ylabel('Actual Labels', fontsize=12)\n",
        "plt.xlabel('Predicted Labels', fontsize=12)\n",
        "\n",
        "tickMarks = np.arange(nrClasses)\n",
        "plt.yticks(tickMarks, categories)\n",
        "plt.xticks(tickMarks, categories)\n",
        "\n",
        "plt.colorbar()\n",
        "\n",
        "for i, j in itertools.product(range(nrRows), range(nrCols)):\n",
        "    plt.text(j, i, confMatrix[i, j], horizontalalignment='center', color='white' if confMatrix[i, j] > confMatrix.max()/2 else 'black')\n",
        "\n",
        "plt.show()"
      ],
      "metadata": {
        "colab": {
          "base_uri": "https://localhost:8080/",
          "height": 898
        },
        "id": "nvENKVo1aIMg",
        "outputId": "5e2d99d7-78dd-4469-db8e-6a132fe28e0d"
      },
      "execution_count": 40,
      "outputs": [
        {
          "output_type": "display_data",
          "data": {
            "image/png": "[encoded data removed]",
            "text/plain": [
              "<Figure size 2160x1080 with 2 Axes>"
            ]
          },
          "metadata": {
            "needs_background": "light"
          }
        }
      ]
    },
    {
      "cell_type": "code",
      "source": [
        "truePositive = np.diag(confMatrix)"
      ],
      "metadata": {
        "id": "83I8O2G0andu"
      },
      "execution_count": 41,
      "outputs": []
    },
    {
      "cell_type": "code",
      "source": [
        "recall = truePositive / np.sum(confMatrix, axis=1)\n",
        "recallModel = np.mean(recall)\n",
        "print(f'The Recall score of the Model 2 is: {recallModel:.2%}')"
      ],
      "metadata": {
        "colab": {
          "base_uri": "https://localhost:8080/"
        },
        "id": "U4ntV4F5bSX6",
        "outputId": "0d0d8b69-191b-4170-f784-91eba51ac337"
      },
      "execution_count": 42,
      "outputs": [
        {
          "output_type": "stream",
          "name": "stdout",
          "text": [
            "The Recall score of the Model 2 is: 71.36%\n"
          ]
        }
      ]
    },
    {
      "cell_type": "code",
      "source": [
        "precision = truePositive / np.sum(confMatrix, axis=0)\n",
        "precisionModel = np.mean(precision)\n",
        "print(f'The Precision score of the Model 2 is: {precisionModel:.2%}')"
      ],
      "metadata": {
        "colab": {
          "base_uri": "https://localhost:8080/"
        },
        "id": "moZ9qc7sbVJA",
        "outputId": "a0c84c9b-07c7-4c92-cbf6-4c2c198c3c10"
      },
      "execution_count": 43,
      "outputs": [
        {
          "output_type": "stream",
          "name": "stdout",
          "text": [
            "The Precision score of the Model 2 is: 78.40%\n"
          ]
        }
      ]
    },
    {
      "cell_type": "code",
      "source": [
        "fScore = 2 * precisionModel * recallModel / (precisionModel + recallModel)\n",
        "print(f'The F Score of the Model 2 is: {fScore:.2%}')"
      ],
      "metadata": {
        "colab": {
          "base_uri": "https://localhost:8080/"
        },
        "id": "hNU4kFhrbXZg",
        "outputId": "638678b6-0faa-4f63-ec64-6c410ee22390"
      },
      "execution_count": 44,
      "outputs": [
        {
          "output_type": "stream",
          "name": "stdout",
          "text": [
            "The F Score of the Model 2 is: 74.72%\n"
          ]
        }
      ]
    },
    {
      "cell_type": "code",
      "source": [
        ""
      ],
      "metadata": {
        "id": "L30fNLLPbZnu"
      },
      "execution_count": null,
      "outputs": []
    }
  ],
  "metadata": {
    "colab": {
      "name": "plantDiseaseDetection.ipynb",
      "provenance": [],
      "toc_visible": true,
      "mount_file_id": "1gQYakteIMGu7Gi0mcV1ocERWa51c2rFx",
      "authorship_tag": "ABX9TyM7v/FZpCzuZXvHEDNDOLcA",
      "include_colab_link": true
    },
    "kernelspec": {
      "display_name": "Python 3",
      "name": "python3"
    },
    "language_info": {
      "name": "python"
    },
    "accelerator": "GPU"
  },
  "nbformat": 4,
  "nbformat_minor": 0
}